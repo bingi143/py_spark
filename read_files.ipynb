{
 "cells": [
  {
   "cell_type": "code",
   "execution_count": 130,
   "metadata": {},
   "outputs": [
    {
     "data": {
      "text/plain": [
       "'\\n\\n@Author: Venkatesh \\n\\n@Date: 2024-10-11 18:00:30 \\n\\n@Last Modified by: Venkatesh \\n\\n@Last Modified time: 2024-10-11 18:00:30 \\n\\n@Title : Program Aim to reading data from file using pyspark \\n\\n\\n\\n'"
      ]
     },
     "execution_count": 130,
     "metadata": {},
     "output_type": "execute_result"
    }
   ],
   "source": [
    "'''\n",
    "\n",
    "@Author: Venkatesh \\n\n",
    "@Date: 2024-10-11 18:00:30 \\n\n",
    "@Last Modified by: Venkatesh \\n\n",
    "@Last Modified time: 2024-10-11 18:00:30 \\n\n",
    "@Title : Program Aim to reading data from file using pyspark \\n\n",
    "\n",
    "\n",
    "''' "
   ]
  },
  {
   "cell_type": "code",
   "execution_count": 131,
   "metadata": {},
   "outputs": [],
   "source": [
    "from pyspark.sql import SparkSession"
   ]
  },
  {
   "cell_type": "code",
   "execution_count": 132,
   "metadata": {},
   "outputs": [],
   "source": [
    "spark=SparkSession.builder.appName(\"Read CSV from local\").getOrCreate()"
   ]
  },
  {
   "cell_type": "markdown",
   "metadata": {},
   "source": [
    "CSV file"
   ]
  },
  {
   "cell_type": "code",
   "execution_count": 133,
   "metadata": {},
   "outputs": [
    {
     "name": "stdout",
     "output_type": "stream",
     "text": [
      "+---+------+---+----------+-----------+\n",
      "| ID|  NAME|AGE|    NUMBER|       MAIL|\n",
      "+---+------+---+----------+-----------+\n",
      "|  1| VENKY| 23|6305114038|B@GMAIL.COM|\n",
      "|  2| RAHUL| 23| 232424233|R@GMAIL.COM|\n",
      "|  3| VIJAY| 23|3425436345|V@GMAIL.COM|\n",
      "|  4|SURESH| 24|  23535875|S@GMAIL.COM|\n",
      "|  5|GIRISH| 21| 253556323|G@GMAIL.COM|\n",
      "|  6|NAVEEN| 24| 545753535|N@GMAIL.COM|\n",
      "+---+------+---+----------+-----------+\n",
      "\n"
     ]
    }
   ],
   "source": [
    "try:\n",
    "    data_frame=spark.read.csv(\"D:\\spark\\spark-warehouse\\sample_data.csv.txt\",header=True,inferSchema=True)\n",
    "    data_frame.show()\n",
    "\n",
    "except Exception as e:\n",
    "    print(\"Exception is\",e)\n",
    "\n"
   ]
  },
  {
   "cell_type": "markdown",
   "metadata": {},
   "source": [
    "json file"
   ]
  },
  {
   "cell_type": "code",
   "execution_count": 134,
   "metadata": {},
   "outputs": [],
   "source": [
    "#spark=SparkSession.builder.appName(\"Read json from local\").getOrCreate()"
   ]
  },
  {
   "cell_type": "code",
   "execution_count": 135,
   "metadata": {},
   "outputs": [
    {
     "name": "stdout",
     "output_type": "stream",
     "text": [
      "+-------+--------------------+\n",
      "|   name|                wins|\n",
      "+-------+--------------------+\n",
      "|Gilbert|[[straight, 7♣], ...|\n",
      "|  Alexa|[[two pair, 4♠], ...|\n",
      "|    May|                  []|\n",
      "|Deloise|[[three of a kind...|\n",
      "+-------+--------------------+\n",
      "\n"
     ]
    }
   ],
   "source": [
    "try:\n",
    "    data_frame=spark.read.json(\"D:\\spark\\spark-warehouse\\data.json.txt\")\n",
    "    data_frame.show()\n",
    "\n",
    "except Exception as e:\n",
    "    print(\"exception is\",e)\n",
    "\n",
    "    "
   ]
  }
 ],
 "metadata": {
  "kernelspec": {
   "display_name": "Python 3",
   "language": "python",
   "name": "python3"
  },
  "language_info": {
   "codemirror_mode": {
    "name": "ipython",
    "version": 3
   },
   "file_extension": ".py",
   "mimetype": "text/x-python",
   "name": "python",
   "nbconvert_exporter": "python",
   "pygments_lexer": "ipython3",
   "version": "3.10.4"
  }
 },
 "nbformat": 4,
 "nbformat_minor": 2
}
