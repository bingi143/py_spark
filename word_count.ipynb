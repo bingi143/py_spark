{
 "cells": [
  {
   "cell_type": "code",
   "execution_count": 15,
   "metadata": {},
   "outputs": [
    {
     "data": {
      "text/plain": [
       "'\\n\\n@Author: Venkatesh \\n\\n@Date: 2024-10-11 18:00:30 \\n\\n@Last Modified by: Venkatesh \\n\\n@Last Modified time: 2024-10-11 18:00:30 \\n\\n@Title : Program Aim to word count using pyspark \\n\\n\\n\\n'"
      ]
     },
     "execution_count": 15,
     "metadata": {},
     "output_type": "execute_result"
    }
   ],
   "source": [
    "'''\n",
    "\n",
    "@Author: Venkatesh \\n\n",
    "@Date: 2024-10-11 18:00:30 \\n\n",
    "@Last Modified by: Venkatesh \\n\n",
    "@Last Modified time: 2024-10-11 18:00:30 \\n\n",
    "@Title : Program Aim to word count using pyspark \\n\n",
    "\n",
    "\n",
    "''' "
   ]
  },
  {
   "cell_type": "code",
   "execution_count": 16,
   "metadata": {},
   "outputs": [],
   "source": [
    "from pyspark.sql import SparkSession\n",
    "from pyspark.sql.functions import explode,split"
   ]
  },
  {
   "cell_type": "code",
   "execution_count": 17,
   "metadata": {},
   "outputs": [],
   "source": [
    "spark=SparkSession.builder.appName(\"word count\").getOrCreate()"
   ]
  },
  {
   "cell_type": "code",
   "execution_count": 18,
   "metadata": {},
   "outputs": [
    {
     "name": "stdout",
     "output_type": "stream",
     "text": [
      "+--------------------+\n",
      "|               value|\n",
      "+--------------------+\n",
      "|Venkatesh Rahul V...|\n",
      "+--------------------+\n",
      "\n"
     ]
    }
   ],
   "source": [
    "data_frame=spark.read.text(\"D:\\spark\\spark-warehouse\\word_count.txt\")\n",
    "data_frame.show()"
   ]
  },
  {
   "cell_type": "code",
   "execution_count": 19,
   "metadata": {},
   "outputs": [
    {
     "name": "stdout",
     "output_type": "stream",
     "text": [
      "+---------+\n",
      "|     word|\n",
      "+---------+\n",
      "|Venkatesh|\n",
      "|    Rahul|\n",
      "|    Vijay|\n",
      "|   Naveen|\n",
      "|    Venky|\n",
      "|    Rahul|\n",
      "|   Suresh|\n",
      "|Venkatesh|\n",
      "|   Girish|\n",
      "|Venkatesh|\n",
      "|    Vijay|\n",
      "+---------+\n",
      "\n"
     ]
    }
   ],
   "source": [
    "data_frame_2=words=data_frame.select(explode(split(data_frame.value,\" \")).alias(\"word\"))\n",
    "data_frame_2.show()"
   ]
  },
  {
   "cell_type": "code",
   "execution_count": 20,
   "metadata": {},
   "outputs": [
    {
     "name": "stdout",
     "output_type": "stream",
     "text": [
      "+---------+-----+\n",
      "|word     |count|\n",
      "+---------+-----+\n",
      "|Suresh   |1    |\n",
      "|Venkatesh|3    |\n",
      "|Vijay    |2    |\n",
      "|Venky    |1    |\n",
      "|Naveen   |1    |\n",
      "|Rahul    |2    |\n",
      "|Girish   |1    |\n",
      "+---------+-----+\n",
      "\n"
     ]
    }
   ],
   "source": [
    "word_count=data_frame_2.groupBy(\"word\").count()\n",
    "word_count.show(truncate=False)"
   ]
  }
 ],
 "metadata": {
  "kernelspec": {
   "display_name": "Python 3",
   "language": "python",
   "name": "python3"
  },
  "language_info": {
   "codemirror_mode": {
    "name": "ipython",
    "version": 3
   },
   "file_extension": ".py",
   "mimetype": "text/x-python",
   "name": "python",
   "nbconvert_exporter": "python",
   "pygments_lexer": "ipython3",
   "version": "3.10.4"
  }
 },
 "nbformat": 4,
 "nbformat_minor": 2
}
